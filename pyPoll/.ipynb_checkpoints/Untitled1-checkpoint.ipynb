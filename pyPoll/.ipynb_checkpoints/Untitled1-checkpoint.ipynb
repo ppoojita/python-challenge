{
 "cells": [
  {
   "cell_type": "code",
   "execution_count": 25,
   "metadata": {},
   "outputs": [
    {
     "name": "stderr",
     "output_type": "stream",
     "text": [
      "IOPub data rate exceeded.\n",
      "The notebook server will temporarily stop sending output\n",
      "to the client in order to avoid crashing it.\n",
      "To change this limit, set the config variable\n",
      "`--NotebookApp.iopub_data_rate_limit`.\n"
     ]
    }
   ],
   "source": [
    "#import modules \n",
    "\n",
    "import os\n",
    "import csv\n",
    "\n",
    "\n",
    "\n",
    "# define path and opening csv reader\n",
    "\n",
    "csvpath = os.path.join(\"/Users/pooja/Documents/python-challenge/pyPoll\", \"election_data_1.csv\")\n",
    "with open(csvpath, newline=\"\") as csvfile:\n",
    "    csvreader = csv.reader(csvfile, delimiter=\",\")\n",
    "    headerline = next(csvreader)\n",
    "    rowcount=0\n",
    "    votecount=0\n",
    "    vtlist=[]\n",
    "    mydict={}\n",
    "    candidate=[]\n",
    "    \n",
    "    \n",
    "    for row in csvreader:\n",
    "        rowcount=rowcount+1\n",
    "        if row[2] not in candidate:\n",
    "            candidate.append(row[2])\n",
    "    \n",
    "        for p in candidate: \n",
    "            #print (p)\n",
    "            if p==row[2]:\n",
    "                votecount= votecount+1 \n",
    "            vtlist.append(votecount)\n",
    "            votecount=0\n",
    "        \n",
    "    \n",
    "    \n",
    "    #mydict = {x: True for x in candidate}\n",
    "    #print(mydict)\n",
    "    \n",
    "    #for r in csvreader:\n",
    "        #for x in mydict:\n",
    "            #if mydict[x]==r[2]:\n",
    "                #votecount=votecount+1 \n",
    "                #vtlist.append(votecount)\n",
    "            #votecount=0    \n",
    "            \n",
    "                \n",
    "                \n",
    "\n",
    "  \n",
    "    print(\"The Total Number of votes are:\"+str(rowcount))\n",
    "    print(candidate)\n",
    "    print(vtlist)\n",
    "    #print(votecount)\n",
    "    \n",
    "    \n",
    "   \n",
    "    #print (mydict)\n",
    "   \n",
    "        "
   ]
  },
  {
   "cell_type": "code",
   "execution_count": null,
   "metadata": {
    "collapsed": true
   },
   "outputs": [],
   "source": []
  },
  {
   "cell_type": "code",
   "execution_count": null,
   "metadata": {
    "collapsed": true
   },
   "outputs": [],
   "source": []
  },
  {
   "cell_type": "code",
   "execution_count": null,
   "metadata": {
    "collapsed": true
   },
   "outputs": [],
   "source": []
  }
 ],
 "metadata": {
  "kernelspec": {
   "display_name": "Python 3",
   "language": "python",
   "name": "python3"
  },
  "language_info": {
   "codemirror_mode": {
    "name": "ipython",
    "version": 3
   },
   "file_extension": ".py",
   "mimetype": "text/x-python",
   "name": "python",
   "nbconvert_exporter": "python",
   "pygments_lexer": "ipython3",
   "version": "3.6.3"
  }
 },
 "nbformat": 4,
 "nbformat_minor": 2
}
