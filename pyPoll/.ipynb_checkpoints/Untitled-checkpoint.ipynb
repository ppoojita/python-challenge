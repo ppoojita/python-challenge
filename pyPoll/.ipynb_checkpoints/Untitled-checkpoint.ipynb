{
 "cells": [
  {
   "cell_type": "code",
   "execution_count": null,
   "metadata": {
    "collapsed": true
   },
   "outputs": [],
   "source": [
    "#import modules \n",
    "\n",
    "import os\n",
    "import csv\n",
    "#from collections import Counter\n",
    "\n",
    "\n",
    "# define path and opening csv reader\n",
    "\n",
    "csvpath = os.path.join(\"/Users/pooja/Documents/python-challenge/pyPoll\", \"election_data_1.csv\")\n",
    "with open(csvpath, newline=\"\") as csvfile:\n",
    "    csvreader = csv.reader(csvfile, delimiter=\",\")\n",
    "    headerline = next(csvreader)\n",
    "    rowcount=0\n",
    "    votecount=0\n",
    "    vtlist=[]\n",
    "    rawdata=[]\n",
    "    \n",
    "    \n",
    "    candidate=[]\n",
    "    for row in csvreader:\n",
    "        rowcount=rowcount+1\n",
    "        if row[2] not in candidate:\n",
    "            candidate.append(row[2])\n",
    "            \n",
    "        #rawdata.append(row[2])\n",
    "        #Counter(rawdata)\n",
    "        \n",
    "        \n",
    "            \n",
    "        #for x in candidate:\n",
    "            #if candidate[x]==row[2]:\n",
    "                #votecount=votecount+1 \n",
    "                #vtlist.append(votecount)\n",
    "                #votecount=0\n",
    "                \n",
    "\n",
    "  \n",
    "    print(\"The Total Number of votes are:\"+str(rowcount))\n",
    "    print(candidate)\n",
    "   # print(Counter)\n",
    "    \n",
    "    #print(rawdata)  \n",
    "    \n",
    "        "
   ]
  },
  {
   "cell_type": "code",
   "execution_count": null,
   "metadata": {
    "collapsed": true
   },
   "outputs": [],
   "source": []
  }
 ],
 "metadata": {
  "kernelspec": {
   "display_name": "Python 3",
   "language": "python",
   "name": "python3"
  },
  "language_info": {
   "codemirror_mode": {
    "name": "ipython",
    "version": 3
   },
   "file_extension": ".py",
   "mimetype": "text/x-python",
   "name": "python",
   "nbconvert_exporter": "python",
   "pygments_lexer": "ipython3",
   "version": "3.6.3"
  }
 },
 "nbformat": 4,
 "nbformat_minor": 2
}
